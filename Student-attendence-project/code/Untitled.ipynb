{
 "cells": [
  {
   "cell_type": "code",
   "execution_count": null,
   "id": "e9fd7c81-cfc6-4d0e-82ab-8a94ebf9d0aa",
   "metadata": {},
   "outputs": [],
   "source": [
    "from time import time\n",
    "from pyzbar.pyzbar import decode\n",
    "from PIL import Image\n",
    "import cv2 ,time\n",
    "import csv \n",
    "\n",
    "video = cv2.Videocapture(0)\n",
    "\n",
    "students =[]\n",
    "\n",
    "with open(\"1.csv\",\"r\") as file:\n",
    "    reader=csv.reader(file)\n",
    "    for row in reader:\n",
    "        students.append((row[1]))\n",
    "\n",
    "\n",
    "while True:\n",
    "    check,frame=video.read()\n",
    "    d=decode(frame)\n",
    "    try:\n",
    "        for obj in d:\n",
    "            name=d[0].data.decode()\n",
    "            if name in students:\n",
    "                students.remove(name)\n",
    "                print(\"deleted.......\")\n",
    "    except:\n",
    "        print(\"error\")\n",
    "\n",
    "\n",
    "    cv2.imshow(\"Attendance\",frame)\n",
    "    key=cv2.waitKey(1)\n",
    "    if key==ord(\"q\"): \n",
    "        print(\"Absent students-\")\n",
    "        print(students)\n",
    "        break\n",
    "\n",
    "video.release()\n",
    "cv2.destoryAllWindows()    \n",
    "                         "
   ]
  },
  {
   "cell_type": "code",
   "execution_count": null,
   "id": "c53fd050-7a73-435e-95d3-3795574764b6",
   "metadata": {},
   "outputs": [],
   "source": []
  },
  {
   "cell_type": "code",
   "execution_count": null,
   "id": "5f42dc37-de64-4023-8d69-9aae254e600f",
   "metadata": {},
   "outputs": [],
   "source": []
  }
 ],
 "metadata": {
  "kernelspec": {
   "display_name": "Python 3 (ipykernel)",
   "language": "python",
   "name": "python3"
  },
  "language_info": {
   "codemirror_mode": {
    "name": "ipython",
    "version": 3
   },
   "file_extension": ".py",
   "mimetype": "text/x-python",
   "name": "python",
   "nbconvert_exporter": "python",
   "pygments_lexer": "ipython3",
   "version": "3.9.7"
  }
 },
 "nbformat": 4,
 "nbformat_minor": 5
}
